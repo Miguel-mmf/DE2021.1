{
  "nbformat": 4,
  "nbformat_minor": 2,
  "metadata": {
    "colab": {
      "name": "Calculo da Resistencia Dinamica e Ripple Capacitor.ipynb",
      "provenance": [],
      "collapsed_sections": [],
      "toc_visible": true
    },
    "kernelspec": {
      "name": "python3",
      "display_name": "Python 3"
    },
    "language_info": {
      "name": "python"
    }
  },
  "cells": [
    {
      "cell_type": "markdown",
      "source": [
        "# _Ripple_ no Capacitor Pelo Delta V da Carga\r\n",
        "***"
      ],
      "metadata": {
        "id": "KTXSWLXeTA1X"
      }
    },
    {
      "cell_type": "code",
      "execution_count": null,
      "source": [
        "def calc_paralelo(r1,r2):\r\n",
        "  return ((r1*r2)/(r1+r2))"
      ],
      "outputs": [],
      "metadata": {
        "id": "A08k78pYRok6"
      }
    },
    {
      "cell_type": "code",
      "execution_count": null,
      "source": [
        "def calc_ripple_capacitor(Rz,Rl,Rs,RippleCarga):\r\n",
        "\r\n",
        "  return (RippleCarga*((calc_paralelo(Rz,Rl)+Rs)/calc_paralelo(Rz,Rl)))"
      ],
      "outputs": [],
      "metadata": {
        "id": "XwkNBOjyR0QC"
      }
    },
    {
      "cell_type": "markdown",
      "source": [
        "**Teste**"
      ],
      "metadata": {}
    },
    {
      "cell_type": "code",
      "execution_count": null,
      "source": [
        "rippleCapacitor = calc_ripple_capacitor(1.274,80,68,0.051)\r\n",
        "rippleCapacitor"
      ],
      "outputs": [
        {
          "output_type": "execute_result",
          "data": {
            "text/plain": [
              "2.8164850078492933"
            ]
          },
          "metadata": {},
          "execution_count": 7
        }
      ],
      "metadata": {
        "colab": {
          "base_uri": "https://localhost:8080/"
        },
        "id": "Ribs9EzGSWGa",
        "outputId": "633a3156-4e30-494f-e549-18288adf7189"
      }
    },
    {
      "cell_type": "markdown",
      "source": [
        "# Cálculo da Capacitância do Capacitor e o _Ripple_ no Capacitor a partir da Frequência\r\n",
        "***"
      ],
      "metadata": {
        "id": "w0J5vkt1TIzC"
      }
    },
    {
      "cell_type": "code",
      "execution_count": null,
      "source": [
        "def calc_capacitancia(Vp,Rz,Rs,Rl,freq,RippleCarga):\r\n",
        "\r\n",
        "  Req = calc_paralelo(Rz,Rl)+Rs\r\n",
        "\r\n",
        "  return ((Vp)/(Req*freq*RippleCarga))"
      ],
      "outputs": [],
      "metadata": {
        "id": "cDZp-3oNSfZ7"
      }
    },
    {
      "cell_type": "markdown",
      "source": [
        "**Teste**"
      ],
      "metadata": {}
    },
    {
      "cell_type": "code",
      "execution_count": null,
      "source": [
        "C_capacitor = calc_capacitancia(14.14,1.274,68,80,120,0.051)\r\n",
        "C_capacitor"
      ],
      "outputs": [
        {
          "output_type": "execute_result",
          "data": {
            "text/plain": [
              "0.03336206615538181"
            ]
          },
          "metadata": {},
          "execution_count": 6
        }
      ],
      "metadata": {
        "colab": {
          "base_uri": "https://localhost:8080/"
        },
        "id": "XLw-VTorVmfW",
        "outputId": "99836a65-7f84-4c02-944d-0258efa0f97c"
      }
    },
    {
      "cell_type": "code",
      "execution_count": null,
      "source": [
        "RippleCapacitor = (5.37e-4)/C_capacitor\r\n",
        "RippleCapacitor"
      ],
      "outputs": [
        {
          "output_type": "execute_result",
          "data": {
            "text/plain": [
              "0.15321929702018228"
            ]
          },
          "metadata": {},
          "execution_count": 21
        }
      ],
      "metadata": {
        "colab": {
          "base_uri": "https://localhost:8080/"
        },
        "id": "MC1vghmrWUwc",
        "outputId": "3f2433f4-8013-48d0-b979-3a4adc04336e"
      }
    }
  ]
}