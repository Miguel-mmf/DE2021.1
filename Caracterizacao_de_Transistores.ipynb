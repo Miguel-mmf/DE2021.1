{
  "nbformat": 4,
  "nbformat_minor": 2,
  "metadata": {
    "colab": {
      "name": "Caracterização de Transistores.ipynb",
      "provenance": [],
      "collapsed_sections": []
    },
    "kernelspec": {
      "name": "python3",
      "display_name": "Python 3"
    },
    "language_info": {
      "name": "python"
    }
  },
  "cells": [
    {
      "cell_type": "markdown",
      "source": [
        "# Funções para Caracterização de Transistores NPN\n",
        "**Disciplina:** Dispositivos Eletrônicos 2021.1\n",
        "***"
      ],
      "metadata": {
        "id": "g4i5FyHoU4Gn"
      }
    },
    {
      "cell_type": "markdown",
      "source": [
        "## Correntes no Transistor NPN"
      ],
      "metadata": {
        "id": "-Vmr0FB6VB_H"
      }
    },
    {
      "cell_type": "code",
      "execution_count": null,
      "source": [
        "import math\r\n",
        "import numpy as np"
      ],
      "outputs": [],
      "metadata": {
        "id": "VqNPKpfDVcNS"
      }
    },
    {
      "cell_type": "code",
      "execution_count": null,
      "source": [
        "def calc_beta_NPN(Dnb,Ne,We,Dpe,Nb,Wb):\r\n",
        "  return ((Dnb*Ne*We)/(Dpe*Nb*Wb))"
      ],
      "outputs": [],
      "metadata": {
        "id": "dVPbb1sGWF1e"
      }
    },
    {
      "cell_type": "markdown",
      "source": [
        "**Teste**\n",
        "\n",
        "> Mostre que o ganho de corrente emissor-comum (beta) de um transistor bipolar Si, para o qual: NE=1e18, NB=1e17, DnB/DpE=3 ( Dnb=3 e Dpe=1), WB=0.2um e WE=1um é de 150."
      ],
      "metadata": {
        "id": "pfDQv48TXUny"
      }
    },
    {
      "cell_type": "code",
      "execution_count": null,
      "source": [
        "beta = calc_beta_NPN(3,1e18,1e-6,1,1e17,0.2e-6)\r\n",
        "beta"
      ],
      "outputs": [
        {
          "output_type": "execute_result",
          "data": {
            "text/plain": [
              "150.0"
            ]
          },
          "metadata": {},
          "execution_count": 9
        }
      ],
      "metadata": {
        "colab": {
          "base_uri": "https://localhost:8080/"
        },
        "id": "FX8sdiUxXTvg",
        "outputId": "adb061bd-458a-4314-834f-9390bdcb6fe6"
      }
    },
    {
      "cell_type": "code",
      "execution_count": null,
      "source": [
        "def calc_correntes_transistor_NPN(Vbe,Is,Dnb,Ne,We,Dpe,Nb,Wb):\r\n",
        "  Vt = 0.025852\r\n",
        "  beta = calc_beta_NPN(Dnb,Ne,We,Dpe,Nb,Wb)\r\n",
        "  Ic = Is*(pow(math.e,(Vbe/Vt)))\r\n",
        "  Ib = (Ic/beta)\r\n",
        "  Ie = ((beta+1)/beta)*Ic\r\n",
        "\r\n",
        "  print(f'Beta: {beta}')\r\n",
        "  print(f'Corrente Coletor (Ic): {Ic} ou {np.format_float_scientific(Ic, precision = 4)}')\r\n",
        "  print(f'Corrente de Base (Ib): {Ib} ou {np.format_float_scientific(Ib, precision = 4)}')\r\n",
        "  print(f'Corrente Emisssor (Ie): {Ie} ou {np.format_float_scientific(Ie, precision = 4)}')"
      ],
      "outputs": [],
      "metadata": {
        "id": "8arBcTOtUv7j"
      }
    },
    {
      "cell_type": "markdown",
      "source": [
        "**Teste**\n",
        "\n",
        ">Considere Is=10-15A e =150. Calcule IB\n",
        ", IC e IE (não necessariamente nesta ordem...) em cada circuito para as seguintes condições: No transistor NPN, a junção B-E está polarizada diretamente com 0,725 V; No transistor PNP, a junção B-E está polarizada\n",
        "diretamente com 0,75 V; (em cada caso, suponha que a junção B-C está reversamente polarizada com 1V)."
      ],
      "metadata": {
        "id": "8CZNJ9ijaQQp"
      }
    },
    {
      "cell_type": "code",
      "execution_count": null,
      "source": [
        "calc_correntes_transistor_NPN(0.725,1e-15,3,1e18,1e-6,1,1e17,0.2e-6)"
      ],
      "outputs": [
        {
          "output_type": "stream",
          "name": "stdout",
          "text": [
            "Beta: 150.0\n",
            "Corrente Coletor (Ic): 0.0015116938535968097 ou 1.5117e-03\n",
            "Corrente de Base (Ib): 1.0077959023978732e-05 ou 1.0078e-05\n",
            "Corrente Emisssor (Ie): 0.0015217718126207883 ou 1.5218e-03\n"
          ]
        }
      ],
      "metadata": {
        "colab": {
          "base_uri": "https://localhost:8080/"
        },
        "id": "oNFDdM0OaMy5",
        "outputId": "4fe9ff5a-15a8-4ca3-9a29-9d31a13234d9"
      }
    },
    {
      "cell_type": "markdown",
      "source": [
        "## Correntes no Transistor PNP"
      ],
      "metadata": {
        "id": "pnenkKG5Yotw"
      }
    },
    {
      "cell_type": "code",
      "execution_count": null,
      "source": [
        "import math\r\n",
        "import numpy as np"
      ],
      "outputs": [],
      "metadata": {
        "id": "8TZOxG5_Ypvz"
      }
    },
    {
      "cell_type": "code",
      "execution_count": null,
      "source": [
        "def calc_beta_PNP(Dnb,Ne,We,Dpe,Nb,Wb):\r\n",
        "  return ((Dnb*Ne*We)/(Dpe*Nb*Wb))"
      ],
      "outputs": [],
      "metadata": {
        "id": "bOM68Ut-YsHA"
      }
    },
    {
      "cell_type": "code",
      "execution_count": null,
      "source": [
        "def calc_correntes_transistor_PNP(Veb,Is,Dnb,Ne,We,Dpe,Nb,Wb):\r\n",
        "  Vt = 0.025852\r\n",
        "  beta = calc_beta_PNP(Dnb,Ne,We,Dpe,Nb,Wb)\r\n",
        "  Ic = Is*(pow(math.e,(Veb/Vt)))\r\n",
        "  Ib = (Ic/beta)\r\n",
        "  Ie = ((beta+1)/beta)*Ic\r\n",
        "\r\n",
        "  print(f'Beta: {beta}')\r\n",
        "  print(f'Corrente Coletor (Ic): {Ic} ou {np.format_float_scientific(Ic, precision = 4)}')\r\n",
        "  print(f'Corrente de Base (Ib): {Ib} ou {np.format_float_scientific(Ib, precision = 4)}')\r\n",
        "  print(f'Corrente Emisssor (Ie): {Ie} ou {np.format_float_scientific(Ie, precision = 4)}')"
      ],
      "outputs": [],
      "metadata": {
        "id": "FGKBY7xTY8bF"
      }
    },
    {
      "cell_type": "markdown",
      "source": [
        "**Teste**\n",
        "\n",
        ">Considere Is=10-15A e =150. Calcule IB\n",
        ", IC e IE (não necessariamente nesta ordem...) em cada circuito para as seguintes condições: No transistor NPN, a junção B-E está polarizada diretamente com 0,725 V; No transistor PNP, a junção B-E está polarizada\n",
        "diretamente com 0,75 V; (em cada caso, suponha que a junção B-C está reversamente polarizada com 1V).\n"
      ],
      "metadata": {
        "id": "CiUM8zUVZGRU"
      }
    },
    {
      "cell_type": "code",
      "execution_count": null,
      "source": [
        "calc_correntes_transistor_PNP(0.75,1e-15,3,1e18,1e-6,1,1e17,0.2e-6)"
      ],
      "outputs": [
        {
          "output_type": "stream",
          "name": "stdout",
          "text": [
            "Beta: 150.0\n",
            "Corrente Coletor (Ic): 0.003975990694138313 ou 3.976e-03\n",
            "Corrente de Base (Ib): 2.6506604627588756e-05 ou 2.6507e-05\n",
            "Corrente Emisssor (Ie): 0.004002497298765902 ou 4.0025e-03\n"
          ]
        }
      ],
      "metadata": {
        "colab": {
          "base_uri": "https://localhost:8080/"
        },
        "id": "KyWbPVf0ZFWO",
        "outputId": "ee1a9cc7-1bcf-427c-e0d3-c393a7110232"
      }
    }
  ]
}