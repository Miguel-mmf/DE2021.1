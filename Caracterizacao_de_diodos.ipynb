{
  "nbformat": 4,
  "nbformat_minor": 2,
  "metadata": {
    "colab": {
      "name": "DE - Modelo Exponencial e mais.ipynb",
      "provenance": [],
      "collapsed_sections": [
        "AP-8WUftehj_",
        "NO8uCTf1KtZY",
        "J_8mrutXMHUw"
      ],
      "toc_visible": true
    },
    "kernelspec": {
      "name": "python3",
      "display_name": "Python 3.8.11 64-bit ('venvmiguel': conda)"
    },
    "language_info": {
      "name": "python",
      "version": "3.8.11",
      "mimetype": "text/x-python",
      "codemirror_mode": {
        "name": "ipython",
        "version": 3
      },
      "pygments_lexer": "ipython3",
      "nbconvert_exporter": "python",
      "file_extension": ".py"
    },
    "interpreter": {
      "hash": "50409e4af7436c69f80dffa9b29c7cc6e3556369abac331c0779f9c7288cb625"
    }
  },
  "cells": [
    {
      "cell_type": "markdown",
      "source": [
        "# Modelo Exponencial\n",
        "***"
      ],
      "metadata": {
        "id": "AP-8WUftehj_"
      }
    },
    {
      "cell_type": "code",
      "execution_count": 2,
      "source": [
        "import numpy as np\r\n",
        "import math\r\n",
        "import plotly.graph_objects as go"
      ],
      "outputs": [],
      "metadata": {
        "id": "7DETUuvtkWpt"
      }
    },
    {
      "cell_type": "code",
      "execution_count": 3,
      "source": [
        "def calc_Id(vdd=0,r=None,vd=0):\r\n",
        "  if None not in [vdd,r,vd]:\r\n",
        "    return float((vdd - vd)/r)"
      ],
      "outputs": [],
      "metadata": {
        "id": "Ay7LpbexfZos"
      }
    },
    {
      "cell_type": "code",
      "execution_count": 4,
      "source": [
        "def calc_Vd(n=1,id=1*10^-9,Is=0):\r\n",
        "  if None not in [n,id,Is]:\r\n",
        "    return float(n*0.025852*(np.log(id/Is)))"
      ],
      "outputs": [],
      "metadata": {
        "id": "cwIIaagOioWc"
      }
    },
    {
      "cell_type": "code",
      "execution_count": 14,
      "source": [
        "def gera_grafico(id=None,vd=None):\r\n",
        "  fig = go.Figure()\r\n",
        "\r\n",
        "  fig.add_trace(\r\n",
        "      go.Scatter(\r\n",
        "          x=[i for i in range(0,iteracoes)],\r\n",
        "          y=id,\r\n",
        "          mode='lines+markers',\r\n",
        "          name='Correntes')\r\n",
        "  )\r\n",
        "\r\n",
        "  fig.add_trace(\r\n",
        "      go.Scatter(\r\n",
        "          x=[i for i in range(0,iteracoes)],\r\n",
        "          y=vd,\r\n",
        "          mode='lines+markers',\r\n",
        "          name='Tensão')\r\n",
        "  )\r\n",
        "\r\n",
        "  fig.show()"
      ],
      "outputs": [],
      "metadata": {
        "id": "n8VK5qHDq1le"
      }
    },
    {
      "cell_type": "code",
      "execution_count": 15,
      "source": [
        "Vdd = 10\r\n",
        "Req = 2300\r\n",
        "Is = 1e-15\r\n",
        "n = 1"
      ],
      "outputs": [],
      "metadata": {
        "id": "iuaqMlSLaO85"
      }
    },
    {
      "cell_type": "code",
      "execution_count": 16,
      "source": [
        "iteracoes = int(input('Digite o numero de iterações: '))"
      ],
      "outputs": [],
      "metadata": {
        "colab": {
          "base_uri": "https://localhost:8080/",
          "height": 561
        },
        "id": "NX_csJGkrlbk",
        "outputId": "e076b996-9c52-4d7c-867c-cb639fa170c3"
      }
    },
    {
      "cell_type": "code",
      "execution_count": 17,
      "source": [
        "id = []\r\n",
        "vd = []\r\n",
        "\r\n",
        "for i in range(0,iteracoes):\r\n",
        "  if i == 0:\r\n",
        "    vd.append(0)\r\n",
        "  else:\r\n",
        "    vd.append(calc_Vd(n,id[i-1],Is))\r\n",
        "  id.append(calc_Id(Vdd,Req,vd[i]))\r\n",
        "\r\n",
        "print(id)\r\n",
        "print(vd)\r\n",
        "gera_grafico(vd,id)"
      ],
      "outputs": [
        {
          "output_type": "stream",
          "name": "stdout",
          "text": [
            "[0.004347826086956522, 0.004020734251710022, 0.004021613348232985, 0.004021610890979096, 0.004021610897846873, 0.004021610897827678, 0.004021610897827732, 0.004021610897827732, 0.004021610897827732, 0.004021610897827732]\n",
            "[0, 0.7523112210669486, 0.7502892990641334, 0.7502949507480776, 0.7502949349521914, 0.7502949349963393, 0.7502949349962159, 0.7502949349962162, 0.7502949349962162, 0.7502949349962162]\n"
          ]
        },
        {
          "output_type": "display_data",
          "data": {
            "application/vnd.plotly.v1+json": {
              "config": {
                "plotlyServerURL": "https://plot.ly"
              },
              "data": [
                {
                  "mode": "lines+markers",
                  "name": "Correntes",
                  "type": "scatter",
                  "x": [
                    0,
                    1,
                    2,
                    3,
                    4,
                    5,
                    6,
                    7,
                    8,
                    9
                  ],
                  "y": [
                    0,
                    0.7523112210669486,
                    0.7502892990641334,
                    0.7502949507480776,
                    0.7502949349521914,
                    0.7502949349963393,
                    0.7502949349962159,
                    0.7502949349962162,
                    0.7502949349962162,
                    0.7502949349962162
                  ]
                },
                {
                  "mode": "lines+markers",
                  "name": "Tensão",
                  "type": "scatter",
                  "x": [
                    0,
                    1,
                    2,
                    3,
                    4,
                    5,
                    6,
                    7,
                    8,
                    9
                  ],
                  "y": [
                    0.004347826086956522,
                    0.004020734251710022,
                    0.004021613348232985,
                    0.004021610890979096,
                    0.004021610897846873,
                    0.004021610897827678,
                    0.004021610897827732,
                    0.004021610897827732,
                    0.004021610897827732,
                    0.004021610897827732
                  ]
                }
              ],
              "layout": {
                "template": {
                  "data": {
                    "bar": [
                      {
                        "error_x": {
                          "color": "#2a3f5f"
                        },
                        "error_y": {
                          "color": "#2a3f5f"
                        },
                        "marker": {
                          "line": {
                            "color": "#E5ECF6",
                            "width": 0.5
                          }
                        },
                        "type": "bar"
                      }
                    ],
                    "barpolar": [
                      {
                        "marker": {
                          "line": {
                            "color": "#E5ECF6",
                            "width": 0.5
                          }
                        },
                        "type": "barpolar"
                      }
                    ],
                    "carpet": [
                      {
                        "aaxis": {
                          "endlinecolor": "#2a3f5f",
                          "gridcolor": "white",
                          "linecolor": "white",
                          "minorgridcolor": "white",
                          "startlinecolor": "#2a3f5f"
                        },
                        "baxis": {
                          "endlinecolor": "#2a3f5f",
                          "gridcolor": "white",
                          "linecolor": "white",
                          "minorgridcolor": "white",
                          "startlinecolor": "#2a3f5f"
                        },
                        "type": "carpet"
                      }
                    ],
                    "choropleth": [
                      {
                        "colorbar": {
                          "outlinewidth": 0,
                          "ticks": ""
                        },
                        "type": "choropleth"
                      }
                    ],
                    "contour": [
                      {
                        "colorbar": {
                          "outlinewidth": 0,
                          "ticks": ""
                        },
                        "colorscale": [
                          [
                            0,
                            "#0d0887"
                          ],
                          [
                            0.1111111111111111,
                            "#46039f"
                          ],
                          [
                            0.2222222222222222,
                            "#7201a8"
                          ],
                          [
                            0.3333333333333333,
                            "#9c179e"
                          ],
                          [
                            0.4444444444444444,
                            "#bd3786"
                          ],
                          [
                            0.5555555555555556,
                            "#d8576b"
                          ],
                          [
                            0.6666666666666666,
                            "#ed7953"
                          ],
                          [
                            0.7777777777777778,
                            "#fb9f3a"
                          ],
                          [
                            0.8888888888888888,
                            "#fdca26"
                          ],
                          [
                            1,
                            "#f0f921"
                          ]
                        ],
                        "type": "contour"
                      }
                    ],
                    "contourcarpet": [
                      {
                        "colorbar": {
                          "outlinewidth": 0,
                          "ticks": ""
                        },
                        "type": "contourcarpet"
                      }
                    ],
                    "heatmap": [
                      {
                        "colorbar": {
                          "outlinewidth": 0,
                          "ticks": ""
                        },
                        "colorscale": [
                          [
                            0,
                            "#0d0887"
                          ],
                          [
                            0.1111111111111111,
                            "#46039f"
                          ],
                          [
                            0.2222222222222222,
                            "#7201a8"
                          ],
                          [
                            0.3333333333333333,
                            "#9c179e"
                          ],
                          [
                            0.4444444444444444,
                            "#bd3786"
                          ],
                          [
                            0.5555555555555556,
                            "#d8576b"
                          ],
                          [
                            0.6666666666666666,
                            "#ed7953"
                          ],
                          [
                            0.7777777777777778,
                            "#fb9f3a"
                          ],
                          [
                            0.8888888888888888,
                            "#fdca26"
                          ],
                          [
                            1,
                            "#f0f921"
                          ]
                        ],
                        "type": "heatmap"
                      }
                    ],
                    "heatmapgl": [
                      {
                        "colorbar": {
                          "outlinewidth": 0,
                          "ticks": ""
                        },
                        "colorscale": [
                          [
                            0,
                            "#0d0887"
                          ],
                          [
                            0.1111111111111111,
                            "#46039f"
                          ],
                          [
                            0.2222222222222222,
                            "#7201a8"
                          ],
                          [
                            0.3333333333333333,
                            "#9c179e"
                          ],
                          [
                            0.4444444444444444,
                            "#bd3786"
                          ],
                          [
                            0.5555555555555556,
                            "#d8576b"
                          ],
                          [
                            0.6666666666666666,
                            "#ed7953"
                          ],
                          [
                            0.7777777777777778,
                            "#fb9f3a"
                          ],
                          [
                            0.8888888888888888,
                            "#fdca26"
                          ],
                          [
                            1,
                            "#f0f921"
                          ]
                        ],
                        "type": "heatmapgl"
                      }
                    ],
                    "histogram": [
                      {
                        "marker": {
                          "colorbar": {
                            "outlinewidth": 0,
                            "ticks": ""
                          }
                        },
                        "type": "histogram"
                      }
                    ],
                    "histogram2d": [
                      {
                        "colorbar": {
                          "outlinewidth": 0,
                          "ticks": ""
                        },
                        "colorscale": [
                          [
                            0,
                            "#0d0887"
                          ],
                          [
                            0.1111111111111111,
                            "#46039f"
                          ],
                          [
                            0.2222222222222222,
                            "#7201a8"
                          ],
                          [
                            0.3333333333333333,
                            "#9c179e"
                          ],
                          [
                            0.4444444444444444,
                            "#bd3786"
                          ],
                          [
                            0.5555555555555556,
                            "#d8576b"
                          ],
                          [
                            0.6666666666666666,
                            "#ed7953"
                          ],
                          [
                            0.7777777777777778,
                            "#fb9f3a"
                          ],
                          [
                            0.8888888888888888,
                            "#fdca26"
                          ],
                          [
                            1,
                            "#f0f921"
                          ]
                        ],
                        "type": "histogram2d"
                      }
                    ],
                    "histogram2dcontour": [
                      {
                        "colorbar": {
                          "outlinewidth": 0,
                          "ticks": ""
                        },
                        "colorscale": [
                          [
                            0,
                            "#0d0887"
                          ],
                          [
                            0.1111111111111111,
                            "#46039f"
                          ],
                          [
                            0.2222222222222222,
                            "#7201a8"
                          ],
                          [
                            0.3333333333333333,
                            "#9c179e"
                          ],
                          [
                            0.4444444444444444,
                            "#bd3786"
                          ],
                          [
                            0.5555555555555556,
                            "#d8576b"
                          ],
                          [
                            0.6666666666666666,
                            "#ed7953"
                          ],
                          [
                            0.7777777777777778,
                            "#fb9f3a"
                          ],
                          [
                            0.8888888888888888,
                            "#fdca26"
                          ],
                          [
                            1,
                            "#f0f921"
                          ]
                        ],
                        "type": "histogram2dcontour"
                      }
                    ],
                    "mesh3d": [
                      {
                        "colorbar": {
                          "outlinewidth": 0,
                          "ticks": ""
                        },
                        "type": "mesh3d"
                      }
                    ],
                    "parcoords": [
                      {
                        "line": {
                          "colorbar": {
                            "outlinewidth": 0,
                            "ticks": ""
                          }
                        },
                        "type": "parcoords"
                      }
                    ],
                    "pie": [
                      {
                        "automargin": true,
                        "type": "pie"
                      }
                    ],
                    "scatter": [
                      {
                        "marker": {
                          "colorbar": {
                            "outlinewidth": 0,
                            "ticks": ""
                          }
                        },
                        "type": "scatter"
                      }
                    ],
                    "scatter3d": [
                      {
                        "line": {
                          "colorbar": {
                            "outlinewidth": 0,
                            "ticks": ""
                          }
                        },
                        "marker": {
                          "colorbar": {
                            "outlinewidth": 0,
                            "ticks": ""
                          }
                        },
                        "type": "scatter3d"
                      }
                    ],
                    "scattercarpet": [
                      {
                        "marker": {
                          "colorbar": {
                            "outlinewidth": 0,
                            "ticks": ""
                          }
                        },
                        "type": "scattercarpet"
                      }
                    ],
                    "scattergeo": [
                      {
                        "marker": {
                          "colorbar": {
                            "outlinewidth": 0,
                            "ticks": ""
                          }
                        },
                        "type": "scattergeo"
                      }
                    ],
                    "scattergl": [
                      {
                        "marker": {
                          "colorbar": {
                            "outlinewidth": 0,
                            "ticks": ""
                          }
                        },
                        "type": "scattergl"
                      }
                    ],
                    "scattermapbox": [
                      {
                        "marker": {
                          "colorbar": {
                            "outlinewidth": 0,
                            "ticks": ""
                          }
                        },
                        "type": "scattermapbox"
                      }
                    ],
                    "scatterpolar": [
                      {
                        "marker": {
                          "colorbar": {
                            "outlinewidth": 0,
                            "ticks": ""
                          }
                        },
                        "type": "scatterpolar"
                      }
                    ],
                    "scatterpolargl": [
                      {
                        "marker": {
                          "colorbar": {
                            "outlinewidth": 0,
                            "ticks": ""
                          }
                        },
                        "type": "scatterpolargl"
                      }
                    ],
                    "scatterternary": [
                      {
                        "marker": {
                          "colorbar": {
                            "outlinewidth": 0,
                            "ticks": ""
                          }
                        },
                        "type": "scatterternary"
                      }
                    ],
                    "surface": [
                      {
                        "colorbar": {
                          "outlinewidth": 0,
                          "ticks": ""
                        },
                        "colorscale": [
                          [
                            0,
                            "#0d0887"
                          ],
                          [
                            0.1111111111111111,
                            "#46039f"
                          ],
                          [
                            0.2222222222222222,
                            "#7201a8"
                          ],
                          [
                            0.3333333333333333,
                            "#9c179e"
                          ],
                          [
                            0.4444444444444444,
                            "#bd3786"
                          ],
                          [
                            0.5555555555555556,
                            "#d8576b"
                          ],
                          [
                            0.6666666666666666,
                            "#ed7953"
                          ],
                          [
                            0.7777777777777778,
                            "#fb9f3a"
                          ],
                          [
                            0.8888888888888888,
                            "#fdca26"
                          ],
                          [
                            1,
                            "#f0f921"
                          ]
                        ],
                        "type": "surface"
                      }
                    ],
                    "table": [
                      {
                        "cells": {
                          "fill": {
                            "color": "#EBF0F8"
                          },
                          "line": {
                            "color": "white"
                          }
                        },
                        "header": {
                          "fill": {
                            "color": "#C8D4E3"
                          },
                          "line": {
                            "color": "white"
                          }
                        },
                        "type": "table"
                      }
                    ]
                  },
                  "layout": {
                    "annotationdefaults": {
                      "arrowcolor": "#2a3f5f",
                      "arrowhead": 0,
                      "arrowwidth": 1
                    },
                    "autotypenumbers": "strict",
                    "coloraxis": {
                      "colorbar": {
                        "outlinewidth": 0,
                        "ticks": ""
                      }
                    },
                    "colorscale": {
                      "diverging": [
                        [
                          0,
                          "#8e0152"
                        ],
                        [
                          0.1,
                          "#c51b7d"
                        ],
                        [
                          0.2,
                          "#de77ae"
                        ],
                        [
                          0.3,
                          "#f1b6da"
                        ],
                        [
                          0.4,
                          "#fde0ef"
                        ],
                        [
                          0.5,
                          "#f7f7f7"
                        ],
                        [
                          0.6,
                          "#e6f5d0"
                        ],
                        [
                          0.7,
                          "#b8e186"
                        ],
                        [
                          0.8,
                          "#7fbc41"
                        ],
                        [
                          0.9,
                          "#4d9221"
                        ],
                        [
                          1,
                          "#276419"
                        ]
                      ],
                      "sequential": [
                        [
                          0,
                          "#0d0887"
                        ],
                        [
                          0.1111111111111111,
                          "#46039f"
                        ],
                        [
                          0.2222222222222222,
                          "#7201a8"
                        ],
                        [
                          0.3333333333333333,
                          "#9c179e"
                        ],
                        [
                          0.4444444444444444,
                          "#bd3786"
                        ],
                        [
                          0.5555555555555556,
                          "#d8576b"
                        ],
                        [
                          0.6666666666666666,
                          "#ed7953"
                        ],
                        [
                          0.7777777777777778,
                          "#fb9f3a"
                        ],
                        [
                          0.8888888888888888,
                          "#fdca26"
                        ],
                        [
                          1,
                          "#f0f921"
                        ]
                      ],
                      "sequentialminus": [
                        [
                          0,
                          "#0d0887"
                        ],
                        [
                          0.1111111111111111,
                          "#46039f"
                        ],
                        [
                          0.2222222222222222,
                          "#7201a8"
                        ],
                        [
                          0.3333333333333333,
                          "#9c179e"
                        ],
                        [
                          0.4444444444444444,
                          "#bd3786"
                        ],
                        [
                          0.5555555555555556,
                          "#d8576b"
                        ],
                        [
                          0.6666666666666666,
                          "#ed7953"
                        ],
                        [
                          0.7777777777777778,
                          "#fb9f3a"
                        ],
                        [
                          0.8888888888888888,
                          "#fdca26"
                        ],
                        [
                          1,
                          "#f0f921"
                        ]
                      ]
                    },
                    "colorway": [
                      "#636efa",
                      "#EF553B",
                      "#00cc96",
                      "#ab63fa",
                      "#FFA15A",
                      "#19d3f3",
                      "#FF6692",
                      "#B6E880",
                      "#FF97FF",
                      "#FECB52"
                    ],
                    "font": {
                      "color": "#2a3f5f"
                    },
                    "geo": {
                      "bgcolor": "white",
                      "lakecolor": "white",
                      "landcolor": "#E5ECF6",
                      "showlakes": true,
                      "showland": true,
                      "subunitcolor": "white"
                    },
                    "hoverlabel": {
                      "align": "left"
                    },
                    "hovermode": "closest",
                    "mapbox": {
                      "style": "light"
                    },
                    "paper_bgcolor": "white",
                    "plot_bgcolor": "#E5ECF6",
                    "polar": {
                      "angularaxis": {
                        "gridcolor": "white",
                        "linecolor": "white",
                        "ticks": ""
                      },
                      "bgcolor": "#E5ECF6",
                      "radialaxis": {
                        "gridcolor": "white",
                        "linecolor": "white",
                        "ticks": ""
                      }
                    },
                    "scene": {
                      "xaxis": {
                        "backgroundcolor": "#E5ECF6",
                        "gridcolor": "white",
                        "gridwidth": 2,
                        "linecolor": "white",
                        "showbackground": true,
                        "ticks": "",
                        "zerolinecolor": "white"
                      },
                      "yaxis": {
                        "backgroundcolor": "#E5ECF6",
                        "gridcolor": "white",
                        "gridwidth": 2,
                        "linecolor": "white",
                        "showbackground": true,
                        "ticks": "",
                        "zerolinecolor": "white"
                      },
                      "zaxis": {
                        "backgroundcolor": "#E5ECF6",
                        "gridcolor": "white",
                        "gridwidth": 2,
                        "linecolor": "white",
                        "showbackground": true,
                        "ticks": "",
                        "zerolinecolor": "white"
                      }
                    },
                    "shapedefaults": {
                      "line": {
                        "color": "#2a3f5f"
                      }
                    },
                    "ternary": {
                      "aaxis": {
                        "gridcolor": "white",
                        "linecolor": "white",
                        "ticks": ""
                      },
                      "baxis": {
                        "gridcolor": "white",
                        "linecolor": "white",
                        "ticks": ""
                      },
                      "bgcolor": "#E5ECF6",
                      "caxis": {
                        "gridcolor": "white",
                        "linecolor": "white",
                        "ticks": ""
                      }
                    },
                    "title": {
                      "x": 0.05
                    },
                    "xaxis": {
                      "automargin": true,
                      "gridcolor": "white",
                      "linecolor": "white",
                      "ticks": "",
                      "title": {
                        "standoff": 15
                      },
                      "zerolinecolor": "white",
                      "zerolinewidth": 2
                    },
                    "yaxis": {
                      "automargin": true,
                      "gridcolor": "white",
                      "linecolor": "white",
                      "ticks": "",
                      "title": {
                        "standoff": 15
                      },
                      "zerolinecolor": "white",
                      "zerolinewidth": 2
                    }
                  }
                }
              }
            }
          },
          "metadata": {}
        }
      ],
      "metadata": {
        "id": "mkm69KeFiNEg"
      }
    },
    {
      "cell_type": "markdown",
      "source": [
        "# Cálculo do Coeficicente de Emissão\n",
        "***"
      ],
      "metadata": {
        "id": "wPZcAHT_Kwe-"
      }
    },
    {
      "cell_type": "code",
      "execution_count": 18,
      "source": [
        "import numpy as np"
      ],
      "outputs": [],
      "metadata": {
        "id": "xhewiE-Goebx"
      }
    },
    {
      "cell_type": "markdown",
      "source": [
        "### Valores das tensões aplicadas ao circuito"
      ],
      "metadata": {}
    },
    {
      "cell_type": "code",
      "execution_count": 20,
      "source": [
        "Vfonte1 = 10\r\n",
        "Vfonte2 = 10"
      ],
      "outputs": [],
      "metadata": {
        "id": "GqC_ORKdMPXi"
      }
    },
    {
      "cell_type": "markdown",
      "source": [
        "### Valor da resistência em séria com o Diodo(s)"
      ],
      "metadata": {}
    },
    {
      "cell_type": "code",
      "execution_count": 21,
      "source": [
        "R = 1000"
      ],
      "outputs": [],
      "metadata": {
        "id": "0H9XbdK_Mi_U"
      }
    },
    {
      "cell_type": "markdown",
      "source": [
        "### Dois pontos medidos para o Diodo, ou seja, duas tensões diferentes aplicadas ao circuito"
      ],
      "metadata": {}
    },
    {
      "cell_type": "code",
      "execution_count": 22,
      "source": [
        "Vd1 = 0.894357\r\n",
        "Vd2 = 0.80207"
      ],
      "outputs": [],
      "metadata": {
        "id": "6GCu67PuNUo1"
      }
    },
    {
      "cell_type": "markdown",
      "source": [
        "### Constante Vt (Ta = +25°C)"
      ],
      "metadata": {}
    },
    {
      "cell_type": "code",
      "execution_count": 23,
      "source": [
        "Vt = 0.025852"
      ],
      "outputs": [],
      "metadata": {
        "id": "odgw2Ud_LPtO"
      }
    },
    {
      "cell_type": "code",
      "execution_count": 24,
      "source": [
        "def calc_coeficiente_emissao(Vd1,Vd2,R,Vfonte1,Vfonte2):\r\n",
        "  Id1 = (Vfonte1 - Vd1)/R\r\n",
        "  Id2 = (Vfonte2 - Vd2)/R\r\n",
        "  print(Id1,\" --- \",Id2)\r\n",
        "  if Vd1 > Vd2:\r\n",
        "    return ((Vd1-Vd2)/(Vt*(np.log(Id1/Id2))))\r\n",
        "  else:\r\n",
        "    return ((Vd2-Vd1)/(Vt*(np.log(Id2/Id1))))"
      ],
      "outputs": [],
      "metadata": {
        "id": "jXsAPWTgM3i0"
      }
    },
    {
      "cell_type": "markdown",
      "source": [
        "**Teste**"
      ],
      "metadata": {}
    },
    {
      "cell_type": "code",
      "execution_count": 25,
      "source": [
        "valor_n = calc_coeficiente_emissao(Vd1,Vd2,R,Vfonte1,Vfonte2)\r\n",
        "print(valor_n)"
      ],
      "outputs": [
        {
          "output_type": "stream",
          "name": "stdout",
          "text": [
            "0.009105643  ---  0.00919793\n",
            "-354.0039048162033\n"
          ]
        }
      ],
      "metadata": {
        "colab": {
          "base_uri": "https://localhost:8080/"
        },
        "id": "C9MFDQscNgdV",
        "outputId": "ad59a2e7-6433-4278-a4a6-86df625ced7e"
      }
    },
    {
      "cell_type": "markdown",
      "source": [
        "# Cálculo da Corrente de Saturação\n",
        "***"
      ],
      "metadata": {
        "id": "U9jQv1I-RkLy"
      }
    },
    {
      "cell_type": "markdown",
      "source": [
        "**Obs:** utiliza o valor_n da célula anterior"
      ],
      "metadata": {
        "id": "o6ned4fSStrH"
      }
    },
    {
      "cell_type": "code",
      "execution_count": 26,
      "source": [
        "import math"
      ],
      "outputs": [],
      "metadata": {
        "id": "PZ8mX-W6o553"
      }
    },
    {
      "cell_type": "code",
      "execution_count": 27,
      "source": [
        "valor_n"
      ],
      "outputs": [
        {
          "output_type": "execute_result",
          "data": {
            "text/plain": [
              "-354.0039048162033"
            ]
          },
          "metadata": {},
          "execution_count": 27
        }
      ],
      "metadata": {
        "colab": {
          "base_uri": "https://localhost:8080/"
        },
        "id": "W0RetWCaNjsF",
        "outputId": "1dd9a0e2-2316-432f-d645-f1582c95da8a"
      }
    },
    {
      "cell_type": "code",
      "execution_count": 30,
      "source": [
        "def calc_corrente_saturacao(Vd1,Vd2,R,Vfonte1,Vfonte2,ValorN):\r\n",
        "  Id1 = ((Vfonte1 - Vd1)/R)\r\n",
        "  Id2 = (Vfonte2 - Vd2)/R\r\n",
        "\r\n",
        "  Is1 = (Id1/(pow(math.e,(Vd1/(ValorN*Vt)))))\r\n",
        "  Is2 = (Id2/(pow(math.e,(Vd2/(ValorN*Vt)))))\r\n",
        "\r\n",
        "  print(f'Is1: {Is1} ou {np.format_float_scientific(Is1, precision = 4)}')\r\n",
        "  print(f'Is2: {Is2} ou {np.format_float_scientific(Is2, precision = 4)}')\r\n",
        "  print(f'Diferenca: {Is1-Is2}\\n')\r\n",
        "\r\n",
        "  return Is1"
      ],
      "outputs": [],
      "metadata": {
        "id": "gUY5_j6_Ssf_"
      }
    },
    {
      "cell_type": "markdown",
      "source": [
        "**Teste**"
      ],
      "metadata": {}
    },
    {
      "cell_type": "code",
      "execution_count": 31,
      "source": [
        "valor_Is = calc_corrente_saturacao(Vd1,Vd2,R,Vfonte1,Vfonte2,valor_n)\r\n",
        "print(valor_Is)"
      ],
      "outputs": [
        {
          "output_type": "stream",
          "name": "stdout",
          "text": [
            "Is1: 0.01004043071662324 ou 1.0040e-02\n",
            "Is2: 0.01004043071662324 ou 1.0040e-02\n",
            "Diferenca: 0.0\n",
            "\n",
            "0.01004043071662324\n"
          ]
        }
      ],
      "metadata": {
        "colab": {
          "base_uri": "https://localhost:8080/"
        },
        "id": "Fzs62w0jUbYE",
        "outputId": "3506ce54-e144-43cf-ea04-e1e13b84387e"
      }
    },
    {
      "cell_type": "markdown",
      "source": [
        "# Cálculo da resistência interna série\n",
        "***"
      ],
      "metadata": {
        "id": "ZEhk7bePMJND"
      }
    },
    {
      "cell_type": "code",
      "execution_count": 32,
      "source": [
        "# Valores\r\n",
        "Vd = 0.805758\r\n",
        "n = 1.453245056074812\r\n",
        "Vt = 0.025852\r\n",
        "Id = 0.141942\r\n",
        "Is = 79.69671782071504e-12"
      ],
      "outputs": [],
      "metadata": {
        "id": "YSz9cVfZUleG"
      }
    },
    {
      "cell_type": "code",
      "execution_count": 34,
      "source": [
        "valor_Rs = ((Vd - (n*Vt*np.log(Id/Is)))/Id)\r\n",
        "print(f'{valor_Rs} ou {np.format_float_scientific(valor_Rs, precision = 4)}')"
      ],
      "outputs": [
        {
          "output_type": "stream",
          "name": "stdout",
          "text": [
            "0.03885367033291117 ou 3.8854e-02\n"
          ]
        }
      ],
      "metadata": {
        "colab": {
          "base_uri": "https://localhost:8080/"
        },
        "id": "ubG9LL4rNBlr",
        "outputId": "fa21d282-5f0f-4164-f520-ca7bc604c12d"
      }
    },
    {
      "cell_type": "markdown",
      "source": [
        "# Calculo da barreira potencial (V0)\n",
        "***"
      ],
      "metadata": {
        "id": "NO8uCTf1KtZY"
      }
    },
    {
      "cell_type": "code",
      "execution_count": 35,
      "source": [
        "import numpy as np"
      ],
      "outputs": [],
      "metadata": {
        "id": "i4VbrYomLRdv"
      }
    },
    {
      "cell_type": "code",
      "execution_count": 36,
      "source": [
        "Na = 1e15\r\n",
        "Nd = 1e17"
      ],
      "outputs": [],
      "metadata": {
        "id": "6Rfc_darK2Pz"
      }
    },
    {
      "cell_type": "code",
      "execution_count": 37,
      "source": [
        "ni = 1e20"
      ],
      "outputs": [],
      "metadata": {
        "id": "aYD2QRV_K-3l"
      }
    },
    {
      "cell_type": "code",
      "execution_count": 38,
      "source": [
        "def calc_barreira_potencial(Na,Nd,ni):\r\n",
        "  Vt = 0.025852  \r\n",
        "  return (Vt*(np.log(((Na*Nd)/ni))))"
      ],
      "outputs": [],
      "metadata": {
        "id": "8P0eSMmrLI6M"
      }
    },
    {
      "cell_type": "code",
      "execution_count": 39,
      "source": [
        "barreira_pot = calc_barreira_potencial(Na,Nd,ni)\r\n",
        "barreira_pot"
      ],
      "outputs": [
        {
          "output_type": "execute_result",
          "data": {
            "text/plain": [
              "0.7143171578889848"
            ]
          },
          "metadata": {},
          "execution_count": 39
        }
      ],
      "metadata": {
        "colab": {
          "base_uri": "https://localhost:8080/"
        },
        "id": "orwVj7-cLoCw",
        "outputId": "3f432b07-8f16-40e0-c91e-1303cab4a991"
      }
    },
    {
      "cell_type": "markdown",
      "source": [
        "# Cálculo da Capacitância por Unidade de Área\n",
        "***"
      ],
      "metadata": {
        "id": "J_8mrutXMHUw"
      }
    },
    {
      "cell_type": "code",
      "execution_count": 40,
      "source": [
        "Vt = 0.025852\r\n",
        "q = 1.62e-19\r\n",
        "Es = 1e-12"
      ],
      "outputs": [],
      "metadata": {
        "id": "hrSSEWG7Ls-x"
      }
    },
    {
      "cell_type": "code",
      "execution_count": 41,
      "source": [
        "Na = 1e15\r\n",
        "Nd = 1e17\r\n",
        "ni = 1e20"
      ],
      "outputs": [],
      "metadata": {
        "id": "VZAuSbTNMOku"
      }
    },
    {
      "cell_type": "code",
      "execution_count": 42,
      "source": [
        "def calc_capacitancia_por_area(Na,Nd,ni,Es):\r\n",
        "  termo1 = ((2/(q*Es)*((1/Na)+(1/Nd))))\r\n",
        "  V0 = calc_barreira_potencial(Na,Nd,ni)\r\n",
        "  termo2 = pow(V0,0.5)\r\n",
        "\r\n",
        "  return ((1/(pow(termo1,0.5)))*(1/termo2))"
      ],
      "outputs": [],
      "metadata": {
        "id": "O7dRGuxEMd0C"
      }
    },
    {
      "cell_type": "code",
      "execution_count": 43,
      "source": [
        "capacitancia_por_unidade_de_area = calc_capacitancia_por_area(Na,Nd,ni,Es)\r\n",
        "capacitancia_por_unidade_de_area"
      ],
      "outputs": [
        {
          "output_type": "execute_result",
          "data": {
            "text/plain": [
              "1.0595861710096666e-08"
            ]
          },
          "metadata": {},
          "execution_count": 43
        }
      ],
      "metadata": {
        "colab": {
          "base_uri": "https://localhost:8080/"
        },
        "id": "ZoWA0wXnNLAC",
        "outputId": "e1cfe01e-cadd-4928-f116-d35a40057e25"
      }
    },
    {
      "cell_type": "markdown",
      "source": [
        "# Cálculo da Região de Depleção (W)\n",
        "***"
      ],
      "metadata": {
        "id": "ivOW-cfTNgZz"
      }
    },
    {
      "cell_type": "code",
      "execution_count": 44,
      "source": [
        "W = (Es/calc_capacitancia_por_area(Na,Nd,ni,Es))\r\n",
        "W"
      ],
      "outputs": [
        {
          "output_type": "execute_result",
          "data": {
            "text/plain": [
              "9.437646765879478e-05"
            ]
          },
          "metadata": {},
          "execution_count": 44
        }
      ],
      "metadata": {
        "colab": {
          "base_uri": "https://localhost:8080/"
        },
        "id": "TaRLXoKdNU50",
        "outputId": "5ed02e85-e583-4245-f325-786c817e2a06"
      }
    }
  ]
}